{
 "cells": [
  {
   "cell_type": "code",
   "execution_count": 1,
   "id": "2fe4e8fc",
   "metadata": {},
   "outputs": [],
   "source": [
    "# Imports\n",
    "import math\n",
    "import numpy as np\n",
    "import pandas as pd\n",
    "import matplotlib.pyplot as plt\n",
    "pd.set_option('display.max_columns', None)\n",
    "pd.set_option('display.max_rows', None)\n",
    "import warnings\n",
    "warnings.filterwarnings(\"ignore\")\n",
    "import glob\n",
    "import datetime"
   ]
  },
  {
   "cell_type": "code",
   "execution_count": 2,
   "id": "b9312f83",
   "metadata": {},
   "outputs": [
    {
     "name": "stdout",
     "output_type": "stream",
     "text": [
      "Versão da Linguagem Python Usada Neste Jupyter Notebook: 3.8.8\n"
     ]
    }
   ],
   "source": [
    "# Versão da Linguagem Python\n",
    "from platform import python_version\n",
    "print('Versão da Linguagem Python Usada Neste Jupyter Notebook:', python_version())"
   ]
  },
  {
   "cell_type": "code",
   "execution_count": 3,
   "id": "8100d46a",
   "metadata": {},
   "outputs": [
    {
     "name": "stdout",
     "output_type": "stream",
     "text": [
      "Author: EQUIPE 4\n",
      "\n",
      "pandas    : 1.2.4\n",
      "matplotlib: 3.3.4\n",
      "datetime  : 4.3\n",
      "numpy     : 1.20.1\n",
      "\n"
     ]
    }
   ],
   "source": [
    "# Versões dos pacotes usados neste jupyter notebook\n",
    "%reload_ext watermark\n",
    "%watermark -a \"EQUIPE 4\" --iversions"
   ]
  },
  {
   "cell_type": "code",
   "execution_count": 4,
   "id": "e8391329",
   "metadata": {},
   "outputs": [],
   "source": [
    "#carregando dados\n",
    "\n",
    "path = r'..\\data\\raw' # use your path\n",
    "all_files = glob.glob(path + \"/*.csv\")\n",
    "\n",
    "li = []\n",
    "\n",
    "for filename in all_files:\n",
    "    df = pd.read_csv(filename, index_col=None, header=0)\n",
    "    li.append(df)\n",
    "\n",
    "frame = pd.concat(li, axis=0, ignore_index=True)"
   ]
  },
  {
   "cell_type": "markdown",
   "id": "c7fa9490",
   "metadata": {},
   "source": [
    "## Entendendo nosso conjunto de dados"
   ]
  },
  {
   "cell_type": "code",
   "execution_count": 5,
   "id": "f26711ee",
   "metadata": {},
   "outputs": [
    {
     "name": "stdout",
     "output_type": "stream",
     "text": [
      "<class 'pandas.core.frame.DataFrame'>\n",
      "RangeIndex: 37082 entries, 0 to 37081\n",
      "Data columns (total 10 columns):\n",
      " #   Column     Non-Null Count  Dtype  \n",
      "---  ------     --------------  -----  \n",
      " 0   SNo        37082 non-null  int64  \n",
      " 1   Name       37082 non-null  object \n",
      " 2   Symbol     37082 non-null  object \n",
      " 3   Date       37082 non-null  object \n",
      " 4   High       37082 non-null  float64\n",
      " 5   Low        37082 non-null  float64\n",
      " 6   Open       37082 non-null  float64\n",
      " 7   Close      37082 non-null  float64\n",
      " 8   Volume     37082 non-null  float64\n",
      " 9   Marketcap  37082 non-null  float64\n",
      "dtypes: float64(6), int64(1), object(3)\n",
      "memory usage: 2.8+ MB\n"
     ]
    }
   ],
   "source": [
    "#informação dos dodos\n",
    "frame.info()"
   ]
  },
  {
   "cell_type": "code",
   "execution_count": 6,
   "id": "2e85dae9",
   "metadata": {},
   "outputs": [
    {
     "data": {
      "text/plain": [
       "SNo            int64\n",
       "Name          object\n",
       "Symbol        object\n",
       "Date          object\n",
       "High         float64\n",
       "Low          float64\n",
       "Open         float64\n",
       "Close        float64\n",
       "Volume       float64\n",
       "Marketcap    float64\n",
       "dtype: object"
      ]
     },
     "execution_count": 6,
     "metadata": {},
     "output_type": "execute_result"
    }
   ],
   "source": [
    "df.dtypes"
   ]
  },
  {
   "cell_type": "code",
   "execution_count": 7,
   "id": "01903554",
   "metadata": {},
   "outputs": [
    {
     "data": {
      "text/html": [
       "<div>\n",
       "<style scoped>\n",
       "    .dataframe tbody tr th:only-of-type {\n",
       "        vertical-align: middle;\n",
       "    }\n",
       "\n",
       "    .dataframe tbody tr th {\n",
       "        vertical-align: top;\n",
       "    }\n",
       "\n",
       "    .dataframe thead th {\n",
       "        text-align: right;\n",
       "    }\n",
       "</style>\n",
       "<table border=\"1\" class=\"dataframe\">\n",
       "  <thead>\n",
       "    <tr style=\"text-align: right;\">\n",
       "      <th></th>\n",
       "      <th>SNo</th>\n",
       "      <th>Name</th>\n",
       "      <th>Symbol</th>\n",
       "      <th>Date</th>\n",
       "      <th>High</th>\n",
       "      <th>Low</th>\n",
       "      <th>Open</th>\n",
       "      <th>Close</th>\n",
       "      <th>Volume</th>\n",
       "      <th>Marketcap</th>\n",
       "    </tr>\n",
       "  </thead>\n",
       "  <tbody>\n",
       "    <tr>\n",
       "      <th>0</th>\n",
       "      <td>1</td>\n",
       "      <td>Aave</td>\n",
       "      <td>AAVE</td>\n",
       "      <td>2020-10-05 23:59:59</td>\n",
       "      <td>55.112358</td>\n",
       "      <td>49.787900</td>\n",
       "      <td>52.675035</td>\n",
       "      <td>53.219243</td>\n",
       "      <td>0.000000e+00</td>\n",
       "      <td>8.912813e+07</td>\n",
       "    </tr>\n",
       "    <tr>\n",
       "      <th>1</th>\n",
       "      <td>2</td>\n",
       "      <td>Aave</td>\n",
       "      <td>AAVE</td>\n",
       "      <td>2020-10-06 23:59:59</td>\n",
       "      <td>53.402270</td>\n",
       "      <td>40.734578</td>\n",
       "      <td>53.291969</td>\n",
       "      <td>42.401599</td>\n",
       "      <td>5.830915e+05</td>\n",
       "      <td>7.101144e+07</td>\n",
       "    </tr>\n",
       "    <tr>\n",
       "      <th>2</th>\n",
       "      <td>3</td>\n",
       "      <td>Aave</td>\n",
       "      <td>AAVE</td>\n",
       "      <td>2020-10-07 23:59:59</td>\n",
       "      <td>42.408314</td>\n",
       "      <td>35.970690</td>\n",
       "      <td>42.399947</td>\n",
       "      <td>40.083976</td>\n",
       "      <td>6.828342e+05</td>\n",
       "      <td>6.713004e+07</td>\n",
       "    </tr>\n",
       "    <tr>\n",
       "      <th>3</th>\n",
       "      <td>4</td>\n",
       "      <td>Aave</td>\n",
       "      <td>AAVE</td>\n",
       "      <td>2020-10-08 23:59:59</td>\n",
       "      <td>44.902511</td>\n",
       "      <td>36.696057</td>\n",
       "      <td>39.885262</td>\n",
       "      <td>43.764463</td>\n",
       "      <td>1.658817e+06</td>\n",
       "      <td>2.202651e+08</td>\n",
       "    </tr>\n",
       "    <tr>\n",
       "      <th>4</th>\n",
       "      <td>5</td>\n",
       "      <td>Aave</td>\n",
       "      <td>AAVE</td>\n",
       "      <td>2020-10-09 23:59:59</td>\n",
       "      <td>47.569533</td>\n",
       "      <td>43.291776</td>\n",
       "      <td>43.764463</td>\n",
       "      <td>46.817744</td>\n",
       "      <td>8.155377e+05</td>\n",
       "      <td>2.356322e+08</td>\n",
       "    </tr>\n",
       "  </tbody>\n",
       "</table>\n",
       "</div>"
      ],
      "text/plain": [
       "   SNo  Name Symbol                 Date       High        Low       Open  \\\n",
       "0    1  Aave   AAVE  2020-10-05 23:59:59  55.112358  49.787900  52.675035   \n",
       "1    2  Aave   AAVE  2020-10-06 23:59:59  53.402270  40.734578  53.291969   \n",
       "2    3  Aave   AAVE  2020-10-07 23:59:59  42.408314  35.970690  42.399947   \n",
       "3    4  Aave   AAVE  2020-10-08 23:59:59  44.902511  36.696057  39.885262   \n",
       "4    5  Aave   AAVE  2020-10-09 23:59:59  47.569533  43.291776  43.764463   \n",
       "\n",
       "       Close        Volume     Marketcap  \n",
       "0  53.219243  0.000000e+00  8.912813e+07  \n",
       "1  42.401599  5.830915e+05  7.101144e+07  \n",
       "2  40.083976  6.828342e+05  6.713004e+07  \n",
       "3  43.764463  1.658817e+06  2.202651e+08  \n",
       "4  46.817744  8.155377e+05  2.356322e+08  "
      ]
     },
     "execution_count": 7,
     "metadata": {},
     "output_type": "execute_result"
    }
   ],
   "source": [
    "# Visualiza amostra dos dados\n",
    "frame.head()"
   ]
  },
  {
   "cell_type": "code",
   "execution_count": 8,
   "id": "b6c81fec",
   "metadata": {},
   "outputs": [
    {
     "data": {
      "text/html": [
       "<div>\n",
       "<style scoped>\n",
       "    .dataframe tbody tr th:only-of-type {\n",
       "        vertical-align: middle;\n",
       "    }\n",
       "\n",
       "    .dataframe tbody tr th {\n",
       "        vertical-align: top;\n",
       "    }\n",
       "\n",
       "    .dataframe thead th {\n",
       "        text-align: right;\n",
       "    }\n",
       "</style>\n",
       "<table border=\"1\" class=\"dataframe\">\n",
       "  <thead>\n",
       "    <tr style=\"text-align: right;\">\n",
       "      <th></th>\n",
       "      <th>SNo</th>\n",
       "      <th>Name</th>\n",
       "      <th>Symbol</th>\n",
       "      <th>Date</th>\n",
       "      <th>High</th>\n",
       "      <th>Low</th>\n",
       "      <th>Open</th>\n",
       "      <th>Close</th>\n",
       "      <th>Volume</th>\n",
       "      <th>Marketcap</th>\n",
       "    </tr>\n",
       "  </thead>\n",
       "  <tbody>\n",
       "    <tr>\n",
       "      <th>37077</th>\n",
       "      <td>2889</td>\n",
       "      <td>XRP</td>\n",
       "      <td>XRP</td>\n",
       "      <td>2021-07-02 23:59:59</td>\n",
       "      <td>0.667287</td>\n",
       "      <td>0.634726</td>\n",
       "      <td>0.659890</td>\n",
       "      <td>0.656763</td>\n",
       "      <td>2.061607e+09</td>\n",
       "      <td>3.030759e+10</td>\n",
       "    </tr>\n",
       "    <tr>\n",
       "      <th>37078</th>\n",
       "      <td>2890</td>\n",
       "      <td>XRP</td>\n",
       "      <td>XRP</td>\n",
       "      <td>2021-07-03 23:59:59</td>\n",
       "      <td>0.683677</td>\n",
       "      <td>0.644653</td>\n",
       "      <td>0.655639</td>\n",
       "      <td>0.672888</td>\n",
       "      <td>1.872820e+09</td>\n",
       "      <td>3.105172e+10</td>\n",
       "    </tr>\n",
       "    <tr>\n",
       "      <th>37079</th>\n",
       "      <td>2891</td>\n",
       "      <td>XRP</td>\n",
       "      <td>XRP</td>\n",
       "      <td>2021-07-04 23:59:59</td>\n",
       "      <td>0.707783</td>\n",
       "      <td>0.665802</td>\n",
       "      <td>0.673218</td>\n",
       "      <td>0.694945</td>\n",
       "      <td>1.885242e+09</td>\n",
       "      <td>3.206960e+10</td>\n",
       "    </tr>\n",
       "    <tr>\n",
       "      <th>37080</th>\n",
       "      <td>2892</td>\n",
       "      <td>XRP</td>\n",
       "      <td>XRP</td>\n",
       "      <td>2021-07-05 23:59:59</td>\n",
       "      <td>0.695653</td>\n",
       "      <td>0.648492</td>\n",
       "      <td>0.695653</td>\n",
       "      <td>0.654300</td>\n",
       "      <td>2.076373e+09</td>\n",
       "      <td>3.019395e+10</td>\n",
       "    </tr>\n",
       "    <tr>\n",
       "      <th>37081</th>\n",
       "      <td>2893</td>\n",
       "      <td>XRP</td>\n",
       "      <td>XRP</td>\n",
       "      <td>2021-07-06 23:59:59</td>\n",
       "      <td>0.679923</td>\n",
       "      <td>0.652676</td>\n",
       "      <td>0.653055</td>\n",
       "      <td>0.665402</td>\n",
       "      <td>1.938959e+09</td>\n",
       "      <td>3.072284e+10</td>\n",
       "    </tr>\n",
       "  </tbody>\n",
       "</table>\n",
       "</div>"
      ],
      "text/plain": [
       "        SNo Name Symbol                 Date      High       Low      Open  \\\n",
       "37077  2889  XRP    XRP  2021-07-02 23:59:59  0.667287  0.634726  0.659890   \n",
       "37078  2890  XRP    XRP  2021-07-03 23:59:59  0.683677  0.644653  0.655639   \n",
       "37079  2891  XRP    XRP  2021-07-04 23:59:59  0.707783  0.665802  0.673218   \n",
       "37080  2892  XRP    XRP  2021-07-05 23:59:59  0.695653  0.648492  0.695653   \n",
       "37081  2893  XRP    XRP  2021-07-06 23:59:59  0.679923  0.652676  0.653055   \n",
       "\n",
       "          Close        Volume     Marketcap  \n",
       "37077  0.656763  2.061607e+09  3.030759e+10  \n",
       "37078  0.672888  1.872820e+09  3.105172e+10  \n",
       "37079  0.694945  1.885242e+09  3.206960e+10  \n",
       "37080  0.654300  2.076373e+09  3.019395e+10  \n",
       "37081  0.665402  1.938959e+09  3.072284e+10  "
      ]
     },
     "execution_count": 8,
     "metadata": {},
     "output_type": "execute_result"
    }
   ],
   "source": [
    "# Visualiza amostra dos dados\n",
    "frame.tail()"
   ]
  },
  {
   "cell_type": "code",
   "execution_count": 9,
   "id": "38e9116b",
   "metadata": {},
   "outputs": [
    {
     "data": {
      "text/plain": [
       "Index(['SNo', 'Name', 'Symbol', 'Date', 'High', 'Low', 'Open', 'Close',\n",
       "       'Volume', 'Marketcap'],\n",
       "      dtype='object')"
      ]
     },
     "execution_count": 9,
     "metadata": {},
     "output_type": "execute_result"
    }
   ],
   "source": [
    "# Colunas\n",
    "frame.columns"
   ]
  },
  {
   "cell_type": "code",
   "execution_count": 10,
   "id": "444a05de",
   "metadata": {},
   "outputs": [
    {
     "name": "stdout",
     "output_type": "stream",
     "text": [
      "Linhas:  37082\n",
      "Colunas:  10\n",
      "\n",
      "Variáveis: \n",
      " ['SNo', 'Name', 'Symbol', 'Date', 'High', 'Low', 'Open', 'Close', 'Volume', 'Marketcap']\n",
      "\n",
      "Valores Ausentes: \n",
      " SNo          0\n",
      "Name         0\n",
      "Symbol       0\n",
      "Date         0\n",
      "High         0\n",
      "Low          0\n",
      "Open         0\n",
      "Close        0\n",
      "Volume       0\n",
      "Marketcap    0\n",
      "dtype: int64\n",
      "\n",
      "Valores Únicos: \n",
      " SNo           2991\n",
      "Name            23\n",
      "Symbol          23\n",
      "Date          2991\n",
      "High         36283\n",
      "Low          36333\n",
      "Open         36290\n",
      "Close        36284\n",
      "Volume       36393\n",
      "Marketcap    36121\n",
      "dtype: int64\n"
     ]
    }
   ],
   "source": [
    "# Resumo\n",
    "print(\"Linhas: \", frame.shape[0])\n",
    "print(\"Colunas: \", frame.shape[1])\n",
    "print(\"\\nVariáveis: \\n\", frame.columns.tolist())\n",
    "print(\"\\nValores Ausentes: \\n\" , frame.isnull().sum())\n",
    "print(\"\\nValores Únicos: \\n\", frame.nunique())"
   ]
  },
  {
   "cell_type": "code",
   "execution_count": 11,
   "id": "6df14222",
   "metadata": {},
   "outputs": [
    {
     "data": {
      "text/html": [
       "<div>\n",
       "<style scoped>\n",
       "    .dataframe tbody tr th:only-of-type {\n",
       "        vertical-align: middle;\n",
       "    }\n",
       "\n",
       "    .dataframe tbody tr th {\n",
       "        vertical-align: top;\n",
       "    }\n",
       "\n",
       "    .dataframe thead th {\n",
       "        text-align: right;\n",
       "    }\n",
       "</style>\n",
       "<table border=\"1\" class=\"dataframe\">\n",
       "  <thead>\n",
       "    <tr style=\"text-align: right;\">\n",
       "      <th></th>\n",
       "      <th>SNo</th>\n",
       "      <th>High</th>\n",
       "      <th>Low</th>\n",
       "      <th>Open</th>\n",
       "      <th>Close</th>\n",
       "      <th>Volume</th>\n",
       "      <th>Marketcap</th>\n",
       "    </tr>\n",
       "  </thead>\n",
       "  <tbody>\n",
       "    <tr>\n",
       "      <th>count</th>\n",
       "      <td>37082.000000</td>\n",
       "      <td>37082.000000</td>\n",
       "      <td>37082.000000</td>\n",
       "      <td>37082.000000</td>\n",
       "      <td>37082.000000</td>\n",
       "      <td>3.708200e+04</td>\n",
       "      <td>3.708200e+04</td>\n",
       "    </tr>\n",
       "    <tr>\n",
       "      <th>mean</th>\n",
       "      <td>1056.699018</td>\n",
       "      <td>1016.058015</td>\n",
       "      <td>952.987707</td>\n",
       "      <td>985.323755</td>\n",
       "      <td>987.120511</td>\n",
       "      <td>3.022542e+09</td>\n",
       "      <td>1.542943e+10</td>\n",
       "    </tr>\n",
       "    <tr>\n",
       "      <th>std</th>\n",
       "      <td>755.992373</td>\n",
       "      <td>5249.503670</td>\n",
       "      <td>4907.932082</td>\n",
       "      <td>5088.101367</td>\n",
       "      <td>5093.703878</td>\n",
       "      <td>1.190963e+10</td>\n",
       "      <td>7.059128e+10</td>\n",
       "    </tr>\n",
       "    <tr>\n",
       "      <th>min</th>\n",
       "      <td>1.000000</td>\n",
       "      <td>0.000089</td>\n",
       "      <td>0.000079</td>\n",
       "      <td>0.000086</td>\n",
       "      <td>0.000086</td>\n",
       "      <td>0.000000e+00</td>\n",
       "      <td>0.000000e+00</td>\n",
       "    </tr>\n",
       "    <tr>\n",
       "      <th>25%</th>\n",
       "      <td>420.000000</td>\n",
       "      <td>0.075664</td>\n",
       "      <td>0.069536</td>\n",
       "      <td>0.072456</td>\n",
       "      <td>0.072648</td>\n",
       "      <td>4.937190e+06</td>\n",
       "      <td>2.395955e+08</td>\n",
       "    </tr>\n",
       "    <tr>\n",
       "      <th>50%</th>\n",
       "      <td>910.000000</td>\n",
       "      <td>1.008733</td>\n",
       "      <td>0.999850</td>\n",
       "      <td>1.001157</td>\n",
       "      <td>1.001138</td>\n",
       "      <td>8.512805e+07</td>\n",
       "      <td>1.405335e+09</td>\n",
       "    </tr>\n",
       "    <tr>\n",
       "      <th>75%</th>\n",
       "      <td>1585.000000</td>\n",
       "      <td>31.916399</td>\n",
       "      <td>28.996246</td>\n",
       "      <td>30.459673</td>\n",
       "      <td>30.512205</td>\n",
       "      <td>9.388489e+08</td>\n",
       "      <td>5.159305e+09</td>\n",
       "    </tr>\n",
       "    <tr>\n",
       "      <th>max</th>\n",
       "      <td>2991.000000</td>\n",
       "      <td>64863.098908</td>\n",
       "      <td>62208.964366</td>\n",
       "      <td>63523.754869</td>\n",
       "      <td>63503.457930</td>\n",
       "      <td>3.509679e+11</td>\n",
       "      <td>1.186364e+12</td>\n",
       "    </tr>\n",
       "  </tbody>\n",
       "</table>\n",
       "</div>"
      ],
      "text/plain": [
       "                SNo          High           Low          Open         Close  \\\n",
       "count  37082.000000  37082.000000  37082.000000  37082.000000  37082.000000   \n",
       "mean    1056.699018   1016.058015    952.987707    985.323755    987.120511   \n",
       "std      755.992373   5249.503670   4907.932082   5088.101367   5093.703878   \n",
       "min        1.000000      0.000089      0.000079      0.000086      0.000086   \n",
       "25%      420.000000      0.075664      0.069536      0.072456      0.072648   \n",
       "50%      910.000000      1.008733      0.999850      1.001157      1.001138   \n",
       "75%     1585.000000     31.916399     28.996246     30.459673     30.512205   \n",
       "max     2991.000000  64863.098908  62208.964366  63523.754869  63503.457930   \n",
       "\n",
       "             Volume     Marketcap  \n",
       "count  3.708200e+04  3.708200e+04  \n",
       "mean   3.022542e+09  1.542943e+10  \n",
       "std    1.190963e+10  7.059128e+10  \n",
       "min    0.000000e+00  0.000000e+00  \n",
       "25%    4.937190e+06  2.395955e+08  \n",
       "50%    8.512805e+07  1.405335e+09  \n",
       "75%    9.388489e+08  5.159305e+09  \n",
       "max    3.509679e+11  1.186364e+12  "
      ]
     },
     "execution_count": 11,
     "metadata": {},
     "output_type": "execute_result"
    }
   ],
   "source": [
    "frame.describe()"
   ]
  },
  {
   "cell_type": "code",
   "execution_count": 12,
   "id": "e2aa5d4e",
   "metadata": {},
   "outputs": [
    {
     "data": {
      "text/plain": [
       "Litecoin           2991\n",
       "Bitcoin            2991\n",
       "XRP                2893\n",
       "Dogecoin           2760\n",
       "Monero             2602\n",
       "Stellar            2527\n",
       "Tether             2318\n",
       "NEM                2288\n",
       "Ethereum           2160\n",
       "IOTA               1484\n",
       "EOS                1466\n",
       "Binance Coin       1442\n",
       "TRON               1392\n",
       "Chainlink          1385\n",
       "Cardano            1374\n",
       "USD Coin           1002\n",
       "Crypto.com Coin     935\n",
       "Wrapped Bitcoin     888\n",
       "Cosmos              845\n",
       "Solana              452\n",
       "Polkadot            320\n",
       "Uniswap             292\n",
       "Aave                275\n",
       "Name: Name, dtype: int64"
      ]
     },
     "execution_count": 12,
     "metadata": {},
     "output_type": "execute_result"
    }
   ],
   "source": [
    "frame.Name.value_counts()"
   ]
  },
  {
   "cell_type": "code",
   "execution_count": 15,
   "id": "c8f07a4e",
   "metadata": {},
   "outputs": [
    {
     "name": "stdout",
     "output_type": "stream",
     "text": [
      "Média Volume 3022541604.2694077\n",
      "Média Marketcap 15429426181.106115\n"
     ]
    }
   ],
   "source": [
    "media_volume = frame['Volume'].mean() # Média da coluna\n",
    "media_marketcap = frame['Marketcap'].mean() # Média da coluna\n",
    "print(\"Média Volume\", media_volume)\n",
    "print(\"Média Marketcap\", media_marketcap)"
   ]
  },
  {
   "cell_type": "markdown",
   "id": "6ecf97e2-03a5-4034-94e4-06d20b0d8c88",
   "metadata": {},
   "source": [
    "#### Maiores Marketcap Moedas"
   ]
  },
  {
   "cell_type": "code",
   "execution_count": 16,
   "id": "726cc99f-6ccc-451a-9411-d626997d59ce",
   "metadata": {},
   "outputs": [],
   "source": [
    "#pandas valor unico\n",
    "unique_value_pd = frame['Name'].unique()"
   ]
  },
  {
   "cell_type": "code",
   "execution_count": 17,
   "id": "8b85dddd-9294-470a-83e3-13c16f459d36",
   "metadata": {},
   "outputs": [
    {
     "name": "stdout",
     "output_type": "stream",
     "text": [
      "Aave :  871375598872.7683\n",
      "Binance Coin :  11298898801247.002\n",
      "Bitcoin :  361540292806636.94\n",
      "Cardano :  10447146081729.66\n",
      "Chainlink :  3455079156205.6064\n",
      "Cosmos :  1126342764539.6062\n",
      "Crypto.com Coin :  1388779631767.5803\n",
      "Dogecoin :  4859070845681.547\n",
      "EOS :  5778001750802.902\n",
      "Ethereum :  90117014487265.45\n",
      "IOTA :  3008506150231.9863\n",
      "Litecoin :  8776010338488.528\n",
      "Monero :  3217461233065.435\n",
      "NEM :  2567036320098.743\n",
      "Polkadot :  5290731251713.865\n",
      "Solana :  1169850100407.38\n",
      "Stellar :  5103049571617.468\n",
      "Tether :  14206421583861.07\n",
      "TRON :  3095953308528.795\n",
      "Uniswap :  2321595196114.3857\n",
      "USD Coin :  3035756234153.3237\n",
      "Wrapped Bitcoin :  1479688841499.9192\n",
      "XRP :  27999919593242.816\n"
     ]
    }
   ],
   "source": [
    "#higher_marketcap = frame.loc[frame['Name'] == 'Bitcoin'].max() #máximo valor\n",
    "#print('Maior Marketcap: ', higher_marketcap['Marketcap'])\n",
    "\n",
    "size = np.arange(len(unique_value_pd))\n",
    "#lista = []\n",
    "for i in size:\n",
    "    #lista.append(frame['Marketcap'].loc[frame['Name'] == unique_value[i]].sum())\n",
    "    print(unique_value_pd[i], ': ',frame['Marketcap'].loc[frame['Name'] == unique_value_pd[i]].sum())\n",
    "    #print('    Date: ',frame['Date'].loc[frame['Name'] == unique_value[i]].max())\n",
    "#lista.sorte_values()"
   ]
  },
  {
   "cell_type": "code",
   "execution_count": null,
   "id": "607f8ad0",
   "metadata": {},
   "outputs": [],
   "source": [
    "#criar media para alguns valores especificos\n",
    "\n",
    "df_xrp = frame.loc[frame['Name'] == 'XRP']\n",
    "df_bitcoin = frame.loc[frame['Name'] == 'Bitcoin']\n",
    "df_dogecoin = frame.loc[frame['Name'] == 'Dogecoin']\n",
    "\n",
    "\n",
    "#XRP\n",
    "media_volume_xrp = df_xrp['Volume'].mean() # Média da coluna\n",
    "media_marketcap_xrp = df_xrp['Marketcap'].mean() # Média da coluna\n",
    "\n",
    "#BITCOIN\n",
    "media_volume_bitcoin = df_bitcoin['Volume'].mean() # Média da coluna\n",
    "media_marketcap_bitcoin = df_bitcoin['Marketcap'].mean() # Média da coluna\n",
    "\n",
    "#DOGECOIN\n",
    "media_volume_dogecoin = df_dogecoin['Volume'].mean() # Média da coluna\n",
    "media_marketcap_dogecoin = df_dogecoin['Marketcap'].mean() # Média da coluna\n",
    "\n",
    "\n",
    "print(\"Média Volume XRP\", media_volume_xrp)\n",
    "print(\"Média Marketcap XRP\", media_marketcap_xrp)\n",
    "\n",
    "print(\"Média Volume BITCOIN\", media_volume_bitcoin)\n",
    "print(\"Média Marketcap BITCOIN\", media_marketcap_bitcoin)\n",
    "\n",
    "print(\"Média Volume DOGECOIN\", media_volume_dogecoin)\n",
    "print(\"Média Marketcap DOGECOIN\", media_marketcap_dogecoin)\n",
    "\n",
    "\n",
    "\n"
   ]
  },
  {
   "cell_type": "code",
   "execution_count": null,
   "id": "96aa4175",
   "metadata": {},
   "outputs": [],
   "source": [
    "#criar media para alguns valores especificos\n",
    "\n",
    "df_xrp = frame.loc[frame['Name'] == 'XRP']\n",
    "df_bitcoin = frame.loc[frame['Name'] == 'Bitcoin']\n",
    "df_dogecoin = frame.loc[frame['Name'] == 'Dogecoin']\n",
    "\n",
    "\n",
    "#XRP\n",
    "media_volume_xrp = df_xrp['High'].mean() # Média da coluna\n",
    "media_marketcap_xrp = df_xrp['Low'].mean() # Média da coluna\n",
    "\n",
    "#BITCOIN\n",
    "media_volume_bitcoin = df_bitcoin['High'].mean() # Média da coluna\n",
    "media_marketcap_bitcoin = df_bitcoin['Low'].mean() # Média da coluna\n",
    "\n",
    "#DOGECOIN\n",
    "media_volume_dogecoin = df_dogecoin['High'].mean() # Média da coluna\n",
    "media_marketcap_dogecoin = df_dogecoin['Low'].mean() # Média da coluna\n",
    "\n",
    "\n",
    "print(\"Média High XRP\", media_volume_xrp)\n",
    "print(\"Média Low XRP\", media_marketcap_xrp)\n",
    "\n",
    "print(\"Média High BITCOIN\", media_volume_bitcoin)\n",
    "print(\"Média Low BITCOIN\", media_marketcap_bitcoin)\n",
    "\n",
    "print(\"Média High DOGECOIN\", media_volume_dogecoin)\n",
    "print(\"Média Low DOGECOIN\", media_marketcap_dogecoin)\n",
    "\n",
    "\n",
    "\n"
   ]
  },
  {
   "cell_type": "code",
   "execution_count": null,
   "id": "2084d1ab",
   "metadata": {},
   "outputs": [],
   "source": [
    "top = plt.subplot2grid((4,4), (0, 0), rowspan=3, colspan=4)\n",
    "top.plot(df_xrp.index, df_xrp[\"Close\"])\n",
    "plt.title('XRP Preço Close')\n",
    "\n",
    "bottom = plt.subplot2grid((4,4), (3,0), rowspan=1, colspan=4)\n",
    "bottom.bar(df_xrp.index, df_xrp['Volume'])\n",
    "plt.title('XRP Volume')\n",
    "\n",
    "plt.gcf().set_size_inches(15,8)"
   ]
  },
  {
   "cell_type": "code",
   "execution_count": null,
   "id": "c9bb0d6a",
   "metadata": {},
   "outputs": [],
   "source": [
    "#XRP\n",
    "df_xrp.plot(subplots = True, figsize = (8, 8));\n",
    "plt.legend(loc = 'best')\n",
    "plt.show()"
   ]
  },
  {
   "cell_type": "code",
   "execution_count": null,
   "id": "e93c0f5d",
   "metadata": {},
   "outputs": [],
   "source": [
    "df_xrp.Close.plot(label='XRP Close')\n",
    "df_xrp.plot(label='XRP')\n",
    "plt.legend()\n",
    "plt.gcf().set_size_inches(15,8)"
   ]
  },
  {
   "cell_type": "code",
   "execution_count": null,
   "id": "b2373d1d",
   "metadata": {},
   "outputs": [],
   "source": []
  },
  {
   "cell_type": "code",
   "execution_count": null,
   "id": "324588a6",
   "metadata": {},
   "outputs": [],
   "source": []
  },
  {
   "cell_type": "code",
   "execution_count": null,
   "id": "f2fa1faf",
   "metadata": {},
   "outputs": [],
   "source": [
    "#Bitcoin\n",
    "top = plt.subplot2grid((4,4), (0, 0), rowspan=3, colspan=4)\n",
    "top.plot(df_bitcoin.index, df_bitcoin[\"Close\"])\n",
    "plt.title('BITCOIN Preço Close')\n",
    "\n",
    "bottom = plt.subplot2grid((4,4), (3,0), rowspan=1, colspan=4)\n",
    "bottom.bar(df_bitcoin.index, df_bitcoin['Volume'])\n",
    "plt.title('BITCOIN Volume')\n",
    "\n",
    "plt.gcf().set_size_inches(15,8)"
   ]
  },
  {
   "cell_type": "code",
   "execution_count": null,
   "id": "df721d7f",
   "metadata": {},
   "outputs": [],
   "source": [
    "#Bitcoin\n",
    "df_bitcoin.plot(subplots = True, figsize = (8, 8));\n",
    "plt.legend(loc = 'best')\n",
    "plt.show()"
   ]
  },
  {
   "cell_type": "code",
   "execution_count": null,
   "id": "dfa63842",
   "metadata": {},
   "outputs": [],
   "source": [
    "df_bitcoin.Close.plot(label='BITCOIN')\n",
    "df_bitcoin.plot(label='BITCOIN')\n",
    "plt.legend()\n",
    "plt.gcf().set_size_inches(15,8)"
   ]
  },
  {
   "cell_type": "code",
   "execution_count": null,
   "id": "6b5b4b96",
   "metadata": {},
   "outputs": [],
   "source": [
    "df_bitcoin.Close.plot(kind='kde')\n"
   ]
  },
  {
   "cell_type": "code",
   "execution_count": null,
   "id": "aa3f2203",
   "metadata": {},
   "outputs": [],
   "source": [
    "df_bitcoin.Open.plot(kind='kde')\n"
   ]
  },
  {
   "cell_type": "code",
   "execution_count": null,
   "id": "8b75f67c",
   "metadata": {},
   "outputs": [],
   "source": [
    "df_bitcoin.Volume.plot(kind='kde')"
   ]
  },
  {
   "cell_type": "code",
   "execution_count": null,
   "id": "5e71c397",
   "metadata": {},
   "outputs": [],
   "source": [
    "df_bitcoin.Close.plot(label='BITCOIN Close')\n",
    "df_bitcoin.Volume.plot(label='BITCOIN Volume')\n",
    "plt.legend()\n",
    "plt.gcf().set_size_inches(15,8)"
   ]
  },
  {
   "cell_type": "code",
   "execution_count": null,
   "id": "085fb85b",
   "metadata": {},
   "outputs": [],
   "source": []
  }
 ],
 "metadata": {
  "kernelspec": {
   "display_name": "Python 3",
   "language": "python",
   "name": "python3"
  },
  "language_info": {
   "codemirror_mode": {
    "name": "ipython",
    "version": 3
   },
   "file_extension": ".py",
   "mimetype": "text/x-python",
   "name": "python",
   "nbconvert_exporter": "python",
   "pygments_lexer": "ipython3",
   "version": "3.8.8"
  }
 },
 "nbformat": 4,
 "nbformat_minor": 5
}
